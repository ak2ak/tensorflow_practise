{
  "nbformat": 4,
  "nbformat_minor": 0,
  "metadata": {
    "colab": {
      "name": "Supervise_learning.ipynb",
      "provenance": [],
      "authorship_tag": "ABX9TyOV1FddK+rBnUOIWBQbrgyl",
      "include_colab_link": true
    },
    "kernelspec": {
      "name": "python3",
      "display_name": "Python 3"
    }
  },
  "cells": [
    {
      "cell_type": "markdown",
      "metadata": {
        "id": "view-in-github",
        "colab_type": "text"
      },
      "source": [
        "<a href=\"https://colab.research.google.com/github/ak2ak/tensorflow_practise/blob/master/Supervise_learning.ipynb\" target=\"_parent\"><img src=\"https://colab.research.google.com/assets/colab-badge.svg\" alt=\"Open In Colab\"/></a>"
      ]
    },
    {
      "cell_type": "markdown",
      "metadata": {
        "id": "0iGjdfO9HiRC",
        "colab_type": "text"
      },
      "source": [
        "**Supervised Learning with Tensorflow 2.0**\n",
        "\n",
        "Supervise Learning usually comprises two phases: **training** and **testing/prediction**.\n",
        "\n",
        "Total data during training phase is called **training set**.\n",
        "\n",
        "Training Set comprises of **input data(features)** as well as **output data(labels)**.\n",
        "\n",
        "Aim of Training phase is to learn as much as possible from the input data and form a mapping between input and output, such as it can used to make predictions.\n",
        "\n",
        "\n"
      ]
    }
  ]
}